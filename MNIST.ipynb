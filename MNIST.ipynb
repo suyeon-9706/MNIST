{
  "nbformat": 4,
  "nbformat_minor": 0,
  "metadata": {
    "colab": {
      "name": "MNIST.ipynb",
      "version": "0.3.2",
      "provenance": [],
      "collapsed_sections": [],
      "include_colab_link": true
    },
    "kernelspec": {
      "name": "python3",
      "display_name": "Python 3"
    },
    "accelerator": "GPU"
  },
  "cells": [
    {
      "cell_type": "markdown",
      "metadata": {
        "id": "view-in-github",
        "colab_type": "text"
      },
      "source": [
        "<a href=\"https://colab.research.google.com/github/suyeon-9706/MNIST/blob/master/MNIST.ipynb\" target=\"_parent\"><img src=\"https://colab.research.google.com/assets/colab-badge.svg\" alt=\"Open In Colab\"/></a>"
      ]
    },
    {
      "cell_type": "markdown",
      "metadata": {
        "id": "Q6I_UitUDjWY",
        "colab_type": "text"
      },
      "source": [
        "#PyTorch \n",
        "- Scientific Computing Package based on Python (Deep Learning Library)\n",
        "- Dynamic Computing Graph (DCG) Support\n",
        "- Easy access to python arrangement features\n",
        "- Excellent compatibility with numpy / scipy.\n",
        "- Most are implemented in python except C++ code for tensor operation."
      ]
    },
    {
      "cell_type": "markdown",
      "metadata": {
        "id": "80nUu4aoHRAf",
        "colab_type": "text"
      },
      "source": [
        "# MNIST\n",
        "- Provided on Yann LeCun's website\n",
        "- A simple computer vision data set\n",
        "- It consists of handwritten images.\n",
        "- 28*28 image, 1 channel gray image, 0~9 digits\n",
        "- Each data is labeled 'What is the number of that data' with the data.\n",
        "\n",
        "\n",
        "\n",
        "\n"
      ]
    },
    {
      "cell_type": "code",
      "metadata": {
        "id": "ZdZmNN74EwSl",
        "colab_type": "code",
        "colab": {}
      },
      "source": [
        "#code: https://github.com/AvivSham/Pytorch-MNIST-colab/blob/master/Pytorch_MNIST.ipynb\n",
        "#@title Install pytorch\n",
        "!pip install torch\n",
        "!pip install torchvision"
      ],
      "execution_count": 0,
      "outputs": []
    },
    {
      "cell_type": "code",
      "metadata": {
        "id": "tAJ72owyEv7l",
        "colab_type": "code",
        "cellView": "code",
        "colab": {}
      },
      "source": [
        "import torch\n",
        "import torch.nn as nn # Packages for creating a Neural Network\n",
        "# torch.autograd: A package that is central to the Neural network, providing automatic differentiation for all operations of the Tensor\n",
        "\n",
        "from torch.autograd import Variable # Variable class: core class of autograd package\n",
        "\n",
        "# torchvision: use for image classification training, easy to vision training\n",
        "import torchvision.datasets as dsets # Data loader for datasets such as CIFAR10, MNIST, etc.\n",
        "import torchvision.transforms as transf # A package that transforms images of PIL type into torch tensor type"
      ],
      "execution_count": 0,
      "outputs": []
    },
    {
      "cell_type": "code",
      "metadata": {
        "id": "ec7s81WkiIvv",
        "colab_type": "code",
        "colab": {}
      },
      "source": [
        "import matplotlib.pyplot as plt # visualization package(Used to draw a graph)\n",
        "import numpy as np # For matrix operations\n",
        "import random #For random operations"
      ],
      "execution_count": 0,
      "outputs": []
    },
    {
      "cell_type": "code",
      "metadata": {
        "id": "YP3n-il2E37P",
        "colab_type": "code",
        "cellView": "both",
        "outputId": "713b42f7-69b3-4e9c-829c-52d019ee53b6",
        "colab": {
          "base_uri": "https://localhost:8080/",
          "height": 263
        }
      },
      "source": [
        "#@title Loading MNIST data\n",
        "mnist_train = dsets.MNIST(root='data/',\n",
        "                          train=True, # train set\n",
        "                          transform=transf.ToTensor(), # image to Tensor \n",
        "                          download=True) # If MNIST image does not exist in root, download data\n",
        "mnist_test = dsets.MNIST(root='data/',\n",
        "                         train=False, # val(test set)\n",
        "                         transform=transf.ToTensor(), # image to Tensor\n",
        "                         download=True) # If MNIST image does not exist in root, download data"
      ],
      "execution_count": 3,
      "outputs": [
        {
          "output_type": "stream",
          "text": [
            "  0%|          | 0/9912422 [00:00<?, ?it/s]"
          ],
          "name": "stderr"
        },
        {
          "output_type": "stream",
          "text": [
            "Downloading http://yann.lecun.com/exdb/mnist/train-images-idx3-ubyte.gz to data/MNIST/raw/train-images-idx3-ubyte.gz\n"
          ],
          "name": "stdout"
        },
        {
          "output_type": "stream",
          "text": [
            "9920512it [00:00, 23317177.51it/s]                            \n"
          ],
          "name": "stderr"
        },
        {
          "output_type": "stream",
          "text": [
            "Extracting data/MNIST/raw/train-images-idx3-ubyte.gz\n"
          ],
          "name": "stdout"
        },
        {
          "output_type": "stream",
          "text": [
            "32768it [00:00, 452005.17it/s]\n",
            "  1%|          | 16384/1648877 [00:00<00:11, 142143.33it/s]"
          ],
          "name": "stderr"
        },
        {
          "output_type": "stream",
          "text": [
            "Downloading http://yann.lecun.com/exdb/mnist/train-labels-idx1-ubyte.gz to data/MNIST/raw/train-labels-idx1-ubyte.gz\n",
            "Extracting data/MNIST/raw/train-labels-idx1-ubyte.gz\n",
            "Downloading http://yann.lecun.com/exdb/mnist/t10k-images-idx3-ubyte.gz to data/MNIST/raw/t10k-images-idx3-ubyte.gz\n"
          ],
          "name": "stdout"
        },
        {
          "output_type": "stream",
          "text": [
            "1654784it [00:00, 7416169.70it/s]                           \n",
            "8192it [00:00, 173741.12it/s]\n"
          ],
          "name": "stderr"
        },
        {
          "output_type": "stream",
          "text": [
            "Extracting data/MNIST/raw/t10k-images-idx3-ubyte.gz\n",
            "Downloading http://yann.lecun.com/exdb/mnist/t10k-labels-idx1-ubyte.gz to data/MNIST/raw/t10k-labels-idx1-ubyte.gz\n",
            "Extracting data/MNIST/raw/t10k-labels-idx1-ubyte.gz\n",
            "Processing...\n",
            "Done!\n"
          ],
          "name": "stdout"
        }
      ]
    },
    {
      "cell_type": "code",
      "metadata": {
        "id": "rCQZGOUiV29E",
        "colab_type": "code",
        "colab": {}
      },
      "source": [
        "#@title Create batch operator to enter data in batch units\n",
        "# To update the parameters of a model: gradient descent(Update parameters after reporting batch size of data)\n",
        "batch_size = 100\n",
        "train_data = torch.utils.data.DataLoader(dataset=mnist_train,\n",
        "                                         batch_size=batch_size, \n",
        "                                         shuffle=True) # shuffle data\n",
        "test_data = torch.utils.data.DataLoader(dataset=mnist_test, \n",
        "                                        batch_size=batch_size, \n",
        "                                        shuffle=False) # don't shuffle data"
      ],
      "execution_count": 0,
      "outputs": []
    },
    {
      "cell_type": "markdown",
      "metadata": {
        "id": "I_h9OqzUzPIC",
        "colab_type": "text"
      },
      "source": [
        "*batch_size*: the size of input data took for one iteration"
      ]
    },
    {
      "cell_type": "code",
      "metadata": {
        "id": "a7GCwzq8YhJC",
        "colab_type": "code",
        "outputId": "453b7d1a-f349-4da3-9621-caf2a4f53d0f",
        "cellView": "both",
        "colab": {
          "base_uri": "https://localhost:8080/",
          "height": 34
        }
      },
      "source": [
        "#@title Define model\n",
        "print(\"Define model...\")\n",
        "class Net(nn.Module):\n",
        "  # Initialize all modules here(instantiate)\n",
        "  def __init__(self, input_size, hidden_size, num_classes):    \n",
        "    super(Net, self).__init__() # Always 'torch.nn.Module' inheritance, then start\n",
        "    self.fc1 = nn.Linear(input_size, hidden_size) # used for linear transformation\n",
        "    self.relu = nn.ReLU()\n",
        "    self.fc2 = nn.Linear(hidden_size, num_classes) # used for linear transformation\n",
        "    \n",
        "  # Define the network structure\n",
        "  # A function in which the model receives training data and proceeds to 'forward propagation'\n",
        "  def forward(self, x):\n",
        "    out = self.fc1(x)\n",
        "    out = self.relu(out)\n",
        "    out = self.fc2(out)\n",
        "    return out"
      ],
      "execution_count": 5,
      "outputs": [
        {
          "output_type": "stream",
          "text": [
            "Define model...\n"
          ],
          "name": "stdout"
        }
      ]
    },
    {
      "cell_type": "markdown",
      "metadata": {
        "id": "4ZHslsIfzXrb",
        "colab_type": "text"
      },
      "source": [
        "*input_size*: img_size(MNIST data image of shape 28*28 = 784)\n",
        "\n",
        "*hidden_size*: number of nodes at hidden layer\n",
        "\n",
        "*num_classes*: number of output classes(MNIST label: discrete range [0,9])\n",
        "\n",
        "*Linear() function*: Creates an 'input_size' image into a one-dimensional vector => Outputs 'num_classes' classes via the 'hidden_size' nodes at hidden layer\n",
        "\n",
        "*RELU() function*: a function treated as zero only for negative numbers, such as max(0, x)\n",
        "\n",
        "\n",
        "---\n",
        "\n",
        "The reason they are grouped together into a module is because of the 'gpu allocation'.\n",
        "\n",
        "( graph를 선언할 때 gpu option을 주면 \n",
        "그 안에서 선언한 함수는 모두 gpu에 할당되는 Tensorflow와는 다르게 \n",
        "PyTorch에서는 직접 .cuda() 를 통해 할당시켜주어야 한다. \n",
        "이 번거로움을 최소화시키고자, 모듈로 구성.)"
      ]
    },
    {
      "cell_type": "code",
      "metadata": {
        "id": "JspN_zACoOOt",
        "colab_type": "code",
        "colab": {}
      },
      "source": [
        "#@title Build the model\n",
        "input_size = 784 # img_size = (28,28) -> 28*28=784 in total\n",
        "hidden_size = 500\n",
        "num_classes = 10 # discrete range [0,9]\n",
        "\n",
        "net = Net(input_size, hidden_size, num_classes)\n",
        "if torch.cuda.is_available():\n",
        "  net.cuda()"
      ],
      "execution_count": 0,
      "outputs": []
    },
    {
      "cell_type": "markdown",
      "metadata": {
        "id": "0_LPzfhc5xnN",
        "colab_type": "text"
      },
      "source": [
        "*torch.cuda.is_available() function*: Returns a bool indicating if CUDA is currently available. (Verify that GPUs are available in given environment)\n",
        "\n",
        "*cuda()*: Used to replace the existing Tensor with a data type that allows GPU operation\n"
      ]
    },
    {
      "cell_type": "code",
      "metadata": {
        "id": "HJ3q5t-n4PPm",
        "colab_type": "code",
        "colab": {}
      },
      "source": [
        "#@title Define loss & optimizer\n",
        "# loss\n",
        "loss_function = nn.CrossEntropyLoss()\n",
        "# backpropagation method\n",
        "learning_rate = 1e-3\n",
        "optimizer = torch.optim.Adam(net.parameters(), lr=learning_rate)"
      ],
      "execution_count": 0,
      "outputs": []
    },
    {
      "cell_type": "markdown",
      "metadata": {
        "id": "f-TqYnSh4gRw",
        "colab_type": "text"
      },
      "source": [
        "*nn.CrossEntropyLoss() function*: calculate 'cross entropy loss'\n",
        "<br><br>\n",
        "*torch.optim*: a package implementing various optimization algorithms. \n",
        "\n",
        "*torch.optim.Adam(params, lr=~)*:  An algorithm for first-order \"gradient-based optimization\" of stochastic objective functions, based on adaptive estimates of lower-order moments.\n",
        "\n",
        "- *params(iterable)*: iterable of parameters to optimize or dicts defining parameter groups\n",
        "\n",
        "- *lr(float, otional)*: learning rate(default: le-3) (1e-3 --> 1∗10^−3=0.001)\n",
        "\n",
        "- straightforward to implement(1), computationally efficient(2), little memory requirements(3), well suited for problems that are large in terms of data and/or parameters(4)\n"
      ]
    },
    {
      "cell_type": "code",
      "metadata": {
        "id": "QMaK2RIf2Kl8",
        "colab_type": "code",
        "colab": {}
      },
      "source": [
        ""
      ],
      "execution_count": 0,
      "outputs": []
    }
  ]
}