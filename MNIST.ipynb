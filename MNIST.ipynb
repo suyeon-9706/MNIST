{
  "nbformat": 4,
  "nbformat_minor": 0,
  "metadata": {
    "colab": {
      "name": "MNIST.ipynb",
      "version": "0.3.2",
      "provenance": [],
      "collapsed_sections": [],
      "include_colab_link": true
    },
    "kernelspec": {
      "name": "python3",
      "display_name": "Python 3"
    },
    "accelerator": "GPU"
  },
  "cells": [
    {
      "cell_type": "markdown",
      "metadata": {
        "id": "view-in-github",
        "colab_type": "text"
      },
      "source": [
        "<a href=\"https://colab.research.google.com/github/suyeon-9706/MNIST/blob/master/MNIST.ipynb\" target=\"_parent\"><img src=\"https://colab.research.google.com/assets/colab-badge.svg\" alt=\"Open In Colab\"/></a>"
      ]
    },
    {
      "cell_type": "markdown",
      "metadata": {
        "id": "Q6I_UitUDjWY",
        "colab_type": "text"
      },
      "source": [
        "#PyTorch \n",
        "- Scientific Computing Package based on Python (Deep Learning Library)\n",
        "- Dynamic Computing Graph (DCG) Support\n",
        "- Easy access to python arrangement features\n",
        "- Excellent compatibility with numpy / scipy.\n",
        "- Most are implemented in python except C++ code for tensor operation."
      ]
    },
    {
      "cell_type": "markdown",
      "metadata": {
        "id": "80nUu4aoHRAf",
        "colab_type": "text"
      },
      "source": [
        "# MNIST\n",
        "- Provided on Yann LeCun's website\n",
        "- A simple computer vision data set\n",
        "- It consists of handwritten images.\n",
        "- 28*28 image, 1 channel gray image, 0~9 digits\n",
        "- Each data is labeled 'What is the number of that data' with the data.\n",
        "\n",
        "\n",
        "\n",
        "\n"
      ]
    },
    {
      "cell_type": "code",
      "metadata": {
        "id": "ZdZmNN74EwSl",
        "colab_type": "code",
        "colab": {}
      },
      "source": [
        "#code: https://github.com/AvivSham/Pytorch-MNIST-colab/blob/master/Pytorch_MNIST.ipynb\n",
        "#@title Install pytorch\n",
        "!pip install torch\n",
        "!pip install torchvision"
      ],
      "execution_count": 0,
      "outputs": []
    },
    {
      "cell_type": "code",
      "metadata": {
        "id": "tAJ72owyEv7l",
        "colab_type": "code",
        "cellView": "code",
        "colab": {}
      },
      "source": [
        "import torch\n",
        "import torch.nn as nn # Packages for creating a Neural Network\n",
        "# torch.autograd: A package that is central to the Neural network, providing automatic differentiation for all operations of the Tensor\n",
        "\n",
        "from torch.autograd import Variable # Variable class: core class of autograd package\n",
        "\n",
        "# torchvision: use for image classification training, easy to vision training\n",
        "import torchvision.datasets as dsets # Data loader for datasets such as CIFAR10, MNIST, etc.\n",
        "import torchvision.transforms as transf # A package that transforms images of PIL type into torch tensor type"
      ],
      "execution_count": 0,
      "outputs": []
    },
    {
      "cell_type": "code",
      "metadata": {
        "id": "ec7s81WkiIvv",
        "colab_type": "code",
        "colab": {}
      },
      "source": [
        "import matplotlib.pyplot as plt # visualization package(Used to draw a graph)\n",
        "import numpy as np # For matrix operations\n",
        "import random #For random operations"
      ],
      "execution_count": 0,
      "outputs": []
    },
    {
      "cell_type": "code",
      "metadata": {
        "id": "YP3n-il2E37P",
        "colab_type": "code",
        "cellView": "both",
        "outputId": "e8a7308d-50e1-4f0a-a6ce-0d3eaaa8cbdd",
        "colab": {
          "base_uri": "https://localhost:8080/",
          "height": 263
        }
      },
      "source": [
        "#@title Loading MNIST data\n",
        "mnist_train = dsets.MNIST(root='data/',\n",
        "                          train=True, # train set\n",
        "                          transform=transf.ToTensor(), # image to Tensor \n",
        "                          download=True) # If MNIST image does not exist in root, download data\n",
        "mnist_test = dsets.MNIST(root='data/',\n",
        "                         train=False, # val(test set)\n",
        "                         transform=transf.ToTensor(), # image to Tensor\n",
        "                         download=True) # If MNIST image does not exist in root, download data"
      ],
      "execution_count": 3,
      "outputs": [
        {
          "output_type": "stream",
          "text": [
            "\r0it [00:00, ?it/s]"
          ],
          "name": "stderr"
        },
        {
          "output_type": "stream",
          "text": [
            "Downloading http://yann.lecun.com/exdb/mnist/train-images-idx3-ubyte.gz to data/MNIST/raw/train-images-idx3-ubyte.gz\n"
          ],
          "name": "stdout"
        },
        {
          "output_type": "stream",
          "text": [
            "9920512it [00:01, 8627450.82it/s]                            \n"
          ],
          "name": "stderr"
        },
        {
          "output_type": "stream",
          "text": [
            "Extracting data/MNIST/raw/train-images-idx3-ubyte.gz\n"
          ],
          "name": "stdout"
        },
        {
          "output_type": "stream",
          "text": [
            "  0%|          | 0/28881 [00:00<?, ?it/s]"
          ],
          "name": "stderr"
        },
        {
          "output_type": "stream",
          "text": [
            "Downloading http://yann.lecun.com/exdb/mnist/train-labels-idx1-ubyte.gz to data/MNIST/raw/train-labels-idx1-ubyte.gz\n"
          ],
          "name": "stdout"
        },
        {
          "output_type": "stream",
          "text": [
            "32768it [00:00, 129187.37it/s]           \n",
            "  0%|          | 0/1648877 [00:00<?, ?it/s]"
          ],
          "name": "stderr"
        },
        {
          "output_type": "stream",
          "text": [
            "Extracting data/MNIST/raw/train-labels-idx1-ubyte.gz\n",
            "Downloading http://yann.lecun.com/exdb/mnist/t10k-images-idx3-ubyte.gz to data/MNIST/raw/t10k-images-idx3-ubyte.gz\n"
          ],
          "name": "stdout"
        },
        {
          "output_type": "stream",
          "text": [
            "1654784it [00:00, 2117622.68it/s]                            \n",
            "0it [00:00, ?it/s]"
          ],
          "name": "stderr"
        },
        {
          "output_type": "stream",
          "text": [
            "Extracting data/MNIST/raw/t10k-images-idx3-ubyte.gz\n",
            "Downloading http://yann.lecun.com/exdb/mnist/t10k-labels-idx1-ubyte.gz to data/MNIST/raw/t10k-labels-idx1-ubyte.gz\n"
          ],
          "name": "stdout"
        },
        {
          "output_type": "stream",
          "text": [
            "8192it [00:00, 49003.64it/s]            \n"
          ],
          "name": "stderr"
        },
        {
          "output_type": "stream",
          "text": [
            "Extracting data/MNIST/raw/t10k-labels-idx1-ubyte.gz\n",
            "Processing...\n",
            "Done!\n"
          ],
          "name": "stdout"
        }
      ]
    },
    {
      "cell_type": "code",
      "metadata": {
        "id": "rCQZGOUiV29E",
        "colab_type": "code",
        "colab": {}
      },
      "source": [
        "#@title Create batch operator to enter data in batch units\n",
        "# To update the parameters of a model: gradient descent(Update parameters after reporting batch size of data)\n",
        "batch_size = 100\n",
        "train_data = torch.utils.data.DataLoader(dataset=mnist_train,\n",
        "                                         batch_size=batch_size, \n",
        "                                         shuffle=True) # shuffle data\n",
        "test_data = torch.utils.data.DataLoader(dataset=mnist_test, \n",
        "                                        batch_size=batch_size, \n",
        "                                        shuffle=False) # don't shuffle data"
      ],
      "execution_count": 0,
      "outputs": []
    },
    {
      "cell_type": "markdown",
      "metadata": {
        "id": "I_h9OqzUzPIC",
        "colab_type": "text"
      },
      "source": [
        "*batch_size*: the size of input data took for one iteration"
      ]
    },
    {
      "cell_type": "code",
      "metadata": {
        "id": "a7GCwzq8YhJC",
        "colab_type": "code",
        "outputId": "8ea97547-4651-419c-e443-ef0b82a1e486",
        "cellView": "both",
        "colab": {
          "base_uri": "https://localhost:8080/",
          "height": 34
        }
      },
      "source": [
        "#@title Define model\n",
        "print(\"Define model...\")\n",
        "class Net(nn.Module):\n",
        "  # Initialize all modules here(instantiate)\n",
        "  def __init__(self, input_size, hidden_size, num_classes):    \n",
        "    super(Net, self).__init__() # Always 'torch.nn.Module' inheritance, then start\n",
        "    self.fc1 = nn.Linear(input_size, hidden_size) # used for linear transformation\n",
        "    self.relu = nn.ReLU()\n",
        "    self.fc2 = nn.Linear(hidden_size, num_classes) # used for linear transformation\n",
        "    \n",
        "  # Define the network structure\n",
        "  # A function in which the model receives training data and proceeds to 'forward propagation'\n",
        "  def forward(self, x):\n",
        "    out = self.fc1(x)\n",
        "    out = self.relu(out)\n",
        "    out = self.fc2(out)\n",
        "    return out"
      ],
      "execution_count": 5,
      "outputs": [
        {
          "output_type": "stream",
          "text": [
            "Define model...\n"
          ],
          "name": "stdout"
        }
      ]
    },
    {
      "cell_type": "markdown",
      "metadata": {
        "id": "4ZHslsIfzXrb",
        "colab_type": "text"
      },
      "source": [
        "*input_size*: img_size(MNIST data image of shape 28*28 = 784)\n",
        "\n",
        "*hidden_size*: number of nodes at hidden layer\n",
        "\n",
        "*num_classes*: number of output classes(MNIST label: discrete range [0,9])\n",
        "\n",
        "*Linear() function*: Creates an 'input_size' image into a one-dimensional vector => Outputs 'num_classes' classes via the 'hidden_size' nodes at hidden layer\n",
        "\n",
        "*RELU() function*: a function treated as zero only for negative numbers, such as max(0, x)\n",
        "\n",
        "\n",
        "---\n",
        "\n",
        "The reason they are grouped together into a module is because of the 'gpu allocation'.\n",
        "\n",
        "( graph를 선언할 때 gpu option을 주면 \n",
        "그 안에서 선언한 함수는 모두 gpu에 할당되는 Tensorflow와는 다르게 \n",
        "PyTorch에서는 직접 .cuda() 를 통해 할당시켜주어야 한다. \n",
        "이 번거로움을 최소화시키고자, 모듈로 구성.)"
      ]
    },
    {
      "cell_type": "code",
      "metadata": {
        "id": "JspN_zACoOOt",
        "colab_type": "code",
        "colab": {}
      },
      "source": [
        "#@title Build the model\n",
        "input_size = 784 # img_size = (28,28) -> 28*28=784 in total\n",
        "hidden_size = 500\n",
        "num_classes = 10 # discrete range [0,9]\n",
        "\n",
        "net = Net(input_size, hidden_size, num_classes)\n",
        "if torch.cuda.is_available():\n",
        "  net.cuda()"
      ],
      "execution_count": 0,
      "outputs": []
    },
    {
      "cell_type": "markdown",
      "metadata": {
        "id": "0_LPzfhc5xnN",
        "colab_type": "text"
      },
      "source": [
        "*torch.cuda.is_available() function*: Returns a bool indicating if CUDA is currently available. (Verify that GPUs are available in given environment)\n",
        "\n",
        "*cuda()*: Used to replace the existing Tensor with a data type that allows GPU operation\n"
      ]
    },
    {
      "cell_type": "code",
      "metadata": {
        "id": "HJ3q5t-n4PPm",
        "colab_type": "code",
        "colab": {}
      },
      "source": [
        "#@title Define loss & optimizer\n",
        "# loss(Softmax)\n",
        "loss_function = nn.CrossEntropyLoss()\n",
        "# backpropagation method(SGD optimizer)\n",
        "learning_rate = 1e-3\n",
        "optimizer = torch.optim.SGD(net.parameters(), lr=learning_rate)"
      ],
      "execution_count": 0,
      "outputs": []
    },
    {
      "cell_type": "markdown",
      "metadata": {
        "id": "f-TqYnSh4gRw",
        "colab_type": "text"
      },
      "source": [
        "*torch.optim*: a package implementing various optimization algorithms. \n",
        "\n",
        "*torch.optim.SGD(params, lr=~)*: SGD optimizer\n",
        "- *params(iterable)*: iterable of parameters to optimize or dicts defining parameter groups\n",
        "\n",
        "- *lr(float, otional)*: learning rate(default: le-3) (1e-3 --> 1∗10^−3=0.001)"
      ]
    },
    {
      "cell_type": "code",
      "metadata": {
        "id": "QMaK2RIf2Kl8",
        "colab_type": "code",
        "colab": {
          "base_uri": "https://localhost:8080/",
          "height": 2129
        },
        "outputId": "3a9d77a9-ff4c-41e3-e389-0c20dad9e368"
      },
      "source": [
        "#@title Training model\n",
        "num_epochs = 20 \n",
        "for epoch in range(num_epochs):\n",
        "  for i ,(images,labels) in enumerate(train_data):\n",
        "    images = Variable(images.view(-1,28*28)).cuda()\n",
        "    labels = Variable(labels).cuda()\n",
        "    \n",
        "    # grad init\n",
        "    optimizer.zero_grad()\n",
        "    # forward propagation\n",
        "    outputs = net(images)\n",
        "    # calculate loss\n",
        "    loss = loss_function(outputs, labels)\n",
        "    # back propagation\n",
        "    loss.backward()\n",
        "    # weight update\n",
        "    optimizer.step()\n",
        "    \n",
        "    if (i+1) % 100 == 0:\n",
        "      print('Epoch [%d/%d], Step [%d/%d], Loss: %.4f'\n",
        "                 %(epoch+1, num_epochs, i+1, len(mnist_train)//batch_size, loss.data))"
      ],
      "execution_count": 11,
      "outputs": [
        {
          "output_type": "stream",
          "text": [
            "Epoch [1/20], Step [100/600], Loss: 2.0119\n",
            "Epoch [1/20], Step [200/600], Loss: 1.9970\n",
            "Epoch [1/20], Step [300/600], Loss: 1.9673\n",
            "Epoch [1/20], Step [400/600], Loss: 1.9009\n",
            "Epoch [1/20], Step [500/600], Loss: 1.8735\n",
            "Epoch [1/20], Step [600/600], Loss: 1.8277\n",
            "Epoch [2/20], Step [100/600], Loss: 1.8178\n",
            "Epoch [2/20], Step [200/600], Loss: 1.7330\n",
            "Epoch [2/20], Step [300/600], Loss: 1.7045\n",
            "Epoch [2/20], Step [400/600], Loss: 1.6386\n",
            "Epoch [2/20], Step [500/600], Loss: 1.7111\n",
            "Epoch [2/20], Step [600/600], Loss: 1.5794\n",
            "Epoch [3/20], Step [100/600], Loss: 1.5957\n",
            "Epoch [3/20], Step [200/600], Loss: 1.5472\n",
            "Epoch [3/20], Step [300/600], Loss: 1.5167\n",
            "Epoch [3/20], Step [400/600], Loss: 1.4979\n",
            "Epoch [3/20], Step [500/600], Loss: 1.3821\n",
            "Epoch [3/20], Step [600/600], Loss: 1.4622\n",
            "Epoch [4/20], Step [100/600], Loss: 1.4177\n",
            "Epoch [4/20], Step [200/600], Loss: 1.3602\n",
            "Epoch [4/20], Step [300/600], Loss: 1.3924\n",
            "Epoch [4/20], Step [400/600], Loss: 1.3130\n",
            "Epoch [4/20], Step [500/600], Loss: 1.3198\n",
            "Epoch [4/20], Step [600/600], Loss: 1.1998\n",
            "Epoch [5/20], Step [100/600], Loss: 1.1848\n",
            "Epoch [5/20], Step [200/600], Loss: 1.1883\n",
            "Epoch [5/20], Step [300/600], Loss: 1.2510\n",
            "Epoch [5/20], Step [400/600], Loss: 1.1955\n",
            "Epoch [5/20], Step [500/600], Loss: 1.0736\n",
            "Epoch [5/20], Step [600/600], Loss: 1.0013\n",
            "Epoch [6/20], Step [100/600], Loss: 0.9048\n",
            "Epoch [6/20], Step [200/600], Loss: 1.1708\n",
            "Epoch [6/20], Step [300/600], Loss: 0.9474\n",
            "Epoch [6/20], Step [400/600], Loss: 1.0958\n",
            "Epoch [6/20], Step [500/600], Loss: 0.9288\n",
            "Epoch [6/20], Step [600/600], Loss: 0.9794\n",
            "Epoch [7/20], Step [100/600], Loss: 0.9629\n",
            "Epoch [7/20], Step [200/600], Loss: 1.0032\n",
            "Epoch [7/20], Step [300/600], Loss: 0.8989\n",
            "Epoch [7/20], Step [400/600], Loss: 0.8725\n",
            "Epoch [7/20], Step [500/600], Loss: 0.9119\n",
            "Epoch [7/20], Step [600/600], Loss: 0.9634\n",
            "Epoch [8/20], Step [100/600], Loss: 0.8498\n",
            "Epoch [8/20], Step [200/600], Loss: 0.9842\n",
            "Epoch [8/20], Step [300/600], Loss: 0.8583\n",
            "Epoch [8/20], Step [400/600], Loss: 0.8812\n",
            "Epoch [8/20], Step [500/600], Loss: 0.8231\n",
            "Epoch [8/20], Step [600/600], Loss: 0.8747\n",
            "Epoch [9/20], Step [100/600], Loss: 0.7391\n",
            "Epoch [9/20], Step [200/600], Loss: 0.7997\n",
            "Epoch [9/20], Step [300/600], Loss: 0.7945\n",
            "Epoch [9/20], Step [400/600], Loss: 0.7267\n",
            "Epoch [9/20], Step [500/600], Loss: 0.6871\n",
            "Epoch [9/20], Step [600/600], Loss: 0.7484\n",
            "Epoch [10/20], Step [100/600], Loss: 0.7219\n",
            "Epoch [10/20], Step [200/600], Loss: 0.8131\n",
            "Epoch [10/20], Step [300/600], Loss: 0.6579\n",
            "Epoch [10/20], Step [400/600], Loss: 0.7791\n",
            "Epoch [10/20], Step [500/600], Loss: 0.6836\n",
            "Epoch [10/20], Step [600/600], Loss: 0.7439\n",
            "Epoch [11/20], Step [100/600], Loss: 0.5693\n",
            "Epoch [11/20], Step [200/600], Loss: 0.6701\n",
            "Epoch [11/20], Step [300/600], Loss: 0.6524\n",
            "Epoch [11/20], Step [400/600], Loss: 0.6454\n",
            "Epoch [11/20], Step [500/600], Loss: 0.6237\n",
            "Epoch [11/20], Step [600/600], Loss: 0.6640\n",
            "Epoch [12/20], Step [100/600], Loss: 0.6365\n",
            "Epoch [12/20], Step [200/600], Loss: 0.6566\n",
            "Epoch [12/20], Step [300/600], Loss: 0.5251\n",
            "Epoch [12/20], Step [400/600], Loss: 0.6043\n",
            "Epoch [12/20], Step [500/600], Loss: 0.7077\n",
            "Epoch [12/20], Step [600/600], Loss: 0.5387\n",
            "Epoch [13/20], Step [100/600], Loss: 0.5997\n",
            "Epoch [13/20], Step [200/600], Loss: 0.6303\n",
            "Epoch [13/20], Step [300/600], Loss: 0.5543\n",
            "Epoch [13/20], Step [400/600], Loss: 0.5823\n",
            "Epoch [13/20], Step [500/600], Loss: 0.6289\n",
            "Epoch [13/20], Step [600/600], Loss: 0.6234\n",
            "Epoch [14/20], Step [100/600], Loss: 0.5790\n",
            "Epoch [14/20], Step [200/600], Loss: 0.5810\n",
            "Epoch [14/20], Step [300/600], Loss: 0.4501\n",
            "Epoch [14/20], Step [400/600], Loss: 0.4738\n",
            "Epoch [14/20], Step [500/600], Loss: 0.6284\n",
            "Epoch [14/20], Step [600/600], Loss: 0.6224\n",
            "Epoch [15/20], Step [100/600], Loss: 0.6859\n",
            "Epoch [15/20], Step [200/600], Loss: 0.3994\n",
            "Epoch [15/20], Step [300/600], Loss: 0.6255\n",
            "Epoch [15/20], Step [400/600], Loss: 0.5355\n",
            "Epoch [15/20], Step [500/600], Loss: 0.5569\n",
            "Epoch [15/20], Step [600/600], Loss: 0.7011\n",
            "Epoch [16/20], Step [100/600], Loss: 0.6364\n",
            "Epoch [16/20], Step [200/600], Loss: 0.4246\n",
            "Epoch [16/20], Step [300/600], Loss: 0.5902\n",
            "Epoch [16/20], Step [400/600], Loss: 0.6839\n",
            "Epoch [16/20], Step [500/600], Loss: 0.6019\n",
            "Epoch [16/20], Step [600/600], Loss: 0.4352\n",
            "Epoch [17/20], Step [100/600], Loss: 0.6158\n",
            "Epoch [17/20], Step [200/600], Loss: 0.6500\n",
            "Epoch [17/20], Step [300/600], Loss: 0.5551\n",
            "Epoch [17/20], Step [400/600], Loss: 0.5636\n",
            "Epoch [17/20], Step [500/600], Loss: 0.5324\n",
            "Epoch [17/20], Step [600/600], Loss: 0.5130\n",
            "Epoch [18/20], Step [100/600], Loss: 0.5145\n",
            "Epoch [18/20], Step [200/600], Loss: 0.4526\n",
            "Epoch [18/20], Step [300/600], Loss: 0.4325\n",
            "Epoch [18/20], Step [400/600], Loss: 0.5043\n",
            "Epoch [18/20], Step [500/600], Loss: 0.4353\n",
            "Epoch [18/20], Step [600/600], Loss: 0.5307\n",
            "Epoch [19/20], Step [100/600], Loss: 0.4561\n",
            "Epoch [19/20], Step [200/600], Loss: 0.4535\n",
            "Epoch [19/20], Step [300/600], Loss: 0.4526\n",
            "Epoch [19/20], Step [400/600], Loss: 0.4695\n",
            "Epoch [19/20], Step [500/600], Loss: 0.5720\n",
            "Epoch [19/20], Step [600/600], Loss: 0.5029\n",
            "Epoch [20/20], Step [100/600], Loss: 0.6336\n",
            "Epoch [20/20], Step [200/600], Loss: 0.5088\n",
            "Epoch [20/20], Step [300/600], Loss: 0.3631\n",
            "Epoch [20/20], Step [400/600], Loss: 0.5199\n",
            "Epoch [20/20], Step [500/600], Loss: 0.4637\n",
            "Epoch [20/20], Step [600/600], Loss: 0.4725\n"
          ],
          "name": "stdout"
        }
      ]
    },
    {
      "cell_type": "markdown",
      "metadata": {
        "id": "EiSwOko61AEO",
        "colab_type": "text"
      },
      "source": [
        " *num_epochs*: number of times which the entire dataset is passed throughout the model\n",
        "\n",
        "*epoch*: one forward pass and one backward pass of all  the training examples\n",
        "\n",
        "*step*: Mnist에서 6만장을 한 번에 학습에 사용하면 좋겠지만, 메모리와 속도를 고려하여 데이터를 나누어 학습하는데  현재 batch Size가 100이므로 총 600개의 Batch를 얻을 수 있다."
      ]
    },
    {
      "cell_type": "code",
      "metadata": {
        "id": "Zs-LnmJLzPDB",
        "colab_type": "code",
        "outputId": "7f2ca68c-1108-483a-b2a8-cd2eae48b61a",
        "colab": {
          "base_uri": "https://localhost:8080/",
          "height": 34
        }
      },
      "source": [
        "#@title Evaluating accuracy of the model\n",
        "correct = 0\n",
        "total = 0\n",
        "for images,labels in test_data:\n",
        "  images = Variable(images.view(-1,28*28)).cuda()\n",
        "  labels = labels.cuda()\n",
        "  \n",
        "  output = net(images)\n",
        "  _, predicted = torch.max(output,1)\n",
        "  correct += (predicted == labels).sum()\n",
        "  total += labels.size(0)\n",
        "\n",
        "print('Accuracy of the model: %.3f %%' %((100*correct)/(total+1)))"
      ],
      "execution_count": 12,
      "outputs": [
        {
          "output_type": "stream",
          "text": [
            "Accuracy of the model: 88.000 %\n"
          ],
          "name": "stdout"
        }
      ]
    }
  ]
}