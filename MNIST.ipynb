{
  "nbformat": 4,
  "nbformat_minor": 0,
  "metadata": {
    "colab": {
      "name": "MNIST.ipynb",
      "version": "0.3.2",
      "provenance": [],
      "collapsed_sections": [],
      "include_colab_link": true
    },
    "kernelspec": {
      "name": "python3",
      "display_name": "Python 3"
    },
    "accelerator": "GPU"
  },
  "cells": [
    {
      "cell_type": "markdown",
      "metadata": {
        "id": "view-in-github",
        "colab_type": "text"
      },
      "source": [
        "<a href=\"https://colab.research.google.com/github/suyeon-9706/MNIST/blob/master/MNIST.ipynb\" target=\"_parent\"><img src=\"https://colab.research.google.com/assets/colab-badge.svg\" alt=\"Open In Colab\"/></a>"
      ]
    },
    {
      "cell_type": "markdown",
      "metadata": {
        "id": "Q6I_UitUDjWY",
        "colab_type": "text"
      },
      "source": [
        "#PyTorch \n",
        "- Scientific Computing Package based on Python (Deep Learning Library)\n",
        "- Dynamic Computing Graph (DCG) Support\n",
        "- Easy access to python arrangement features\n",
        "- Excellent compatibility with numpy / scipy.\n",
        "- Most are implemented in python except C++ code for tensor operation."
      ]
    },
    {
      "cell_type": "markdown",
      "metadata": {
        "id": "80nUu4aoHRAf",
        "colab_type": "text"
      },
      "source": [
        "# MNIST\n",
        "- Provided on Yann LeCun's website\n",
        "- A simple computer vision data set\n",
        "- It consists of handwritten images.\n",
        "- 28*28 image, 1 channel gray image, 0~9 digits\n",
        "- Each data is labeled 'What is the number of that data' with the data.\n",
        "\n",
        "\n",
        "\n",
        "\n"
      ]
    },
    {
      "cell_type": "code",
      "metadata": {
        "id": "ZdZmNN74EwSl",
        "colab_type": "code",
        "colab": {}
      },
      "source": [
        "#code: https://github.com/AvivSham/Pytorch-MNIST-colab/blob/master/Pytorch_MNIST.ipynb\n",
        "#@title Install pytorch\n",
        "!pip install torch\n",
        "!pip install torchvision"
      ],
      "execution_count": 0,
      "outputs": []
    },
    {
      "cell_type": "code",
      "metadata": {
        "id": "tAJ72owyEv7l",
        "colab_type": "code",
        "cellView": "code",
        "colab": {}
      },
      "source": [
        "import torch\n",
        "import torch.nn as nn # Packages for creating a Neural Network\n",
        "# torch.autograd: A package that is central to the Neural network, providing automatic differentiation for all operations of the Tensor\n",
        "\n",
        "from torch.autograd import Variable # Variable class: core class of autograd package\n",
        "\n",
        "# torchvision: use for image classification training, easy to vision training\n",
        "import torchvision.datasets as dsets # Data loader for datasets such as CIFAR10, MNIST, etc.\n",
        "import torchvision.transforms as transf # A package that transforms images of PIL type into torch tensor type"
      ],
      "execution_count": 0,
      "outputs": []
    },
    {
      "cell_type": "code",
      "metadata": {
        "id": "ec7s81WkiIvv",
        "colab_type": "code",
        "colab": {}
      },
      "source": [
        "import matplotlib.pyplot as plt # visualization package(Used to draw a graph)\n",
        "import numpy as np # For matrix operations\n",
        "import random #For random operations"
      ],
      "execution_count": 0,
      "outputs": []
    },
    {
      "cell_type": "code",
      "metadata": {
        "id": "YP3n-il2E37P",
        "colab_type": "code",
        "cellView": "both",
        "colab": {}
      },
      "source": [
        "#@title Loading MNIST data\n",
        "mnist_train = dsets.MNIST(root='data/',\n",
        "                          train=True, # train set\n",
        "                          transform=transf.ToTensor(), # image to Tensor \n",
        "                          download=True) # If MNIST image does not exist in root, download data\n",
        "mnist_test = dsets.MNIST(root='data/',\n",
        "                         train=False, # val(test set)\n",
        "                         transform=transf.ToTensor(), # image to Tensor\n",
        "                         download=True) # If MNIST image does not exist in root, download data"
      ],
      "execution_count": 0,
      "outputs": []
    },
    {
      "cell_type": "code",
      "metadata": {
        "id": "rCQZGOUiV29E",
        "colab_type": "code",
        "colab": {}
      },
      "source": [
        "#@title Create batch operator to enter data in batch units\n",
        "#@markdown batch_size: the size of input data took for one iteration\n",
        "\n",
        "# To update the parameters of a model: gradient descent(Update parameters after reporting batch size of data)\n",
        "batch_size = 100\n",
        "train_data = torch.utils.data.DataLoader(dataset=mnist_train,\n",
        "                                         batch_size=batch_size, \n",
        "                                         shuffle=True) # shuffle data\n",
        "test_data = torch.utils.data.DataLoader(dataset=mnist_test, \n",
        "                                        batch_size=batch_size, \n",
        "                                        shuffle=False) # don't shuffle data"
      ],
      "execution_count": 0,
      "outputs": []
    },
    {
      "cell_type": "code",
      "metadata": {
        "id": "a7GCwzq8YhJC",
        "colab_type": "code",
        "outputId": "27e9dfa0-4da2-4620-a8e3-ec6943ecae09",
        "colab": {
          "base_uri": "https://localhost:8080/",
          "height": 34
        }
      },
      "source": [
        "#@title Define model\n",
        "#@markdown input_size: img_size\n",
        "#@markdown hidden_size: number of nodes at hidden layer\n",
        "#@markdown num_classes: number of output classes\n",
        "#@markdown Linear() function: Creates an 'input_size' image into a one-dimensional vector => Outputs 'num_classes' classes via the 'hidden_size' nodes at hidden layer\n",
        "#@markdown RELU() function: a function treated as zero only for negative numbers, such as max(0, x)\n",
        "\n",
        "print(\"Define model...\")\n",
        "class Net(nn.Module):\n",
        "  # Initialize all modules here(instantiate)\n",
        "  def __init__(self, input_size, hidden_size, num_classes):    \n",
        "    super(Net, self).__init__() # Always 'torch.nn.Module' inheritance, then start\n",
        "    self.fc1 = nn.Linear(input_size, hidden_size) # used for linear transformation\n",
        "    self.relu = nn.ReLU()\n",
        "    self.fc2 = nn.Linear(hidden_size, num_classes) # used for linear transformation\n",
        "    \n",
        "  # Define the network structure\n",
        "  # A function in which the model receives training data and proceeds to 'forward propagation'\n",
        "  def forward(self, x):\n",
        "    out = self.fc1(x)\n",
        "    out = self.relu(out)\n",
        "    out = self.fc2(out)\n",
        "    return out"
      ],
      "execution_count": 0,
      "outputs": [
        {
          "output_type": "stream",
          "text": [
            "Define model...\n"
          ],
          "name": "stdout"
        }
      ]
    },
    {
      "cell_type": "code",
      "metadata": {
        "id": "JspN_zACoOOt",
        "colab_type": "code",
        "colab": {}
      },
      "source": [
        ""
      ],
      "execution_count": 0,
      "outputs": []
    }
  ]
}