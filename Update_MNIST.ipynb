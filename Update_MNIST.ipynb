{
  "nbformat": 4,
  "nbformat_minor": 0,
  "metadata": {
    "colab": {
      "name": "Update_MNIST.ipynb",
      "version": "0.3.2",
      "provenance": [],
      "collapsed_sections": [],
      "include_colab_link": true
    },
    "kernelspec": {
      "name": "python3",
      "display_name": "Python 3"
    },
    "accelerator": "GPU"
  },
  "cells": [
    {
      "cell_type": "markdown",
      "metadata": {
        "id": "view-in-github",
        "colab_type": "text"
      },
      "source": [
        "<a href=\"https://colab.research.google.com/github/suyeon-9706/MNIST/blob/master/Update_MNIST.ipynb\" target=\"_parent\"><img src=\"https://colab.research.google.com/assets/colab-badge.svg\" alt=\"Open In Colab\"/></a>"
      ]
    },
    {
      "cell_type": "markdown",
      "metadata": {
        "id": "80nUu4aoHRAf",
        "colab_type": "text"
      },
      "source": [
        "# MNIST\n",
        "- Provided on Yann LeCun's website\n",
        "- A simple computer vision data set\n",
        "- It consists of handwritten images.\n",
        "- 28 * 28 * 1 image, 1 channel gray image, 0~9 digits\n",
        "- Each data is labeled 'What is the number of that data' with the data.\n",
        "\n",
        "\n",
        "\n",
        "\n"
      ]
    },
    {
      "cell_type": "code",
      "metadata": {
        "id": "ZdZmNN74EwSl",
        "colab_type": "code",
        "cellView": "both",
        "outputId": "67b4ad2a-ecdd-4a38-e1a1-4bf76470a1ba",
        "colab": {
          "base_uri": "https://localhost:8080/",
          "height": 158
        }
      },
      "source": [
        "#@title Install pytorch\n",
        "!pip install torch\n",
        "!pip install torchvision"
      ],
      "execution_count": 71,
      "outputs": [
        {
          "output_type": "stream",
          "text": [
            "Requirement already satisfied: torch in /usr/local/lib/python3.6/dist-packages (1.1.0)\n",
            "Requirement already satisfied: numpy in /usr/local/lib/python3.6/dist-packages (from torch) (1.16.4)\n",
            "Requirement already satisfied: torchvision in /usr/local/lib/python3.6/dist-packages (0.3.0)\n",
            "Requirement already satisfied: numpy in /usr/local/lib/python3.6/dist-packages (from torchvision) (1.16.4)\n",
            "Requirement already satisfied: torch>=1.1.0 in /usr/local/lib/python3.6/dist-packages (from torchvision) (1.1.0)\n",
            "Requirement already satisfied: six in /usr/local/lib/python3.6/dist-packages (from torchvision) (1.12.0)\n",
            "Requirement already satisfied: pillow>=4.1.1 in /usr/local/lib/python3.6/dist-packages (from torchvision) (4.3.0)\n",
            "Requirement already satisfied: olefile in /usr/local/lib/python3.6/dist-packages (from pillow>=4.1.1->torchvision) (0.46)\n"
          ],
          "name": "stdout"
        }
      ]
    },
    {
      "cell_type": "code",
      "metadata": {
        "id": "tAJ72owyEv7l",
        "colab_type": "code",
        "cellView": "code",
        "colab": {}
      },
      "source": [
        "import torch\n",
        "import torch.nn as nn # Packages for creating a Neural Network\n",
        "import torch.nn.functional as F\n",
        "\n",
        "import numpy \n",
        "\n",
        "# torch.autograd: A package that is central to the Neural network, providing automatic differentiation for all operations of the Tensor\n",
        "from torch.autograd import Variable # Variable class: core class of autograd package\n",
        "\n",
        "# torchvision: use for image classification training, easy to vision training\n",
        "import torchvision.datasets as dsets # Data loader for datasets such as CIFAR10, MNIST, etc.\n",
        "import torchvision.transforms as transf # A package that transforms images of PIL type into torch tensor type"
      ],
      "execution_count": 0,
      "outputs": []
    },
    {
      "cell_type": "code",
      "metadata": {
        "id": "0MoYvs3wIO3g",
        "colab_type": "code",
        "colab": {}
      },
      "source": [
        "#@title Hyperparameter\n",
        "batch_size = 100\n",
        "num_epochs = 20\n",
        "num_classes = 10 # discrete range [0,9]\n",
        "learning_rate = 1e-3\n"
      ],
      "execution_count": 0,
      "outputs": []
    },
    {
      "cell_type": "markdown",
      "metadata": {
        "id": "RhQDSNYcIhIw",
        "colab_type": "text"
      },
      "source": [
        "*batch_size*: the size of input data took for one iteration\n",
        "\n",
        "*num_epochs*: number of times which the entire dataset is passed throughout the model\n",
        "\n",
        "*num_classes*: number of output classes(MNIST label: discrete range [0,9])\n",
        "\n"
      ]
    },
    {
      "cell_type": "code",
      "metadata": {
        "id": "YP3n-il2E37P",
        "colab_type": "code",
        "cellView": "both",
        "colab": {}
      },
      "source": [
        "#@title Loading MNIST data\n",
        "mnist_train = dsets.MNIST(root='data/',\n",
        "                          train=True, # train set\n",
        "                          transform=transf.ToTensor(), # image to Tensor \n",
        "                          download=True) # If MNIST image does not exist in root, download data\n",
        "mnist_test = dsets.MNIST(root='data/',\n",
        "                         train=False, # val(test set)\n",
        "                         transform=transf.ToTensor(), # image to Tensor\n",
        "                         download=True) # If MNIST image does not exist in root, download data"
      ],
      "execution_count": 0,
      "outputs": []
    },
    {
      "cell_type": "code",
      "metadata": {
        "id": "rCQZGOUiV29E",
        "colab_type": "code",
        "cellView": "both",
        "colab": {}
      },
      "source": [
        "#@title Create batch operator to enter data in batch units\n",
        "# To update the parameters of a model: gradient descent(Update parameters after reporting batch size of data)\n",
        "train_data = torch.utils.data.DataLoader(dataset=mnist_train,\n",
        "                                         batch_size=batch_size, \n",
        "                                         shuffle=True) # shuffle data\n",
        "test_data = torch.utils.data.DataLoader(dataset=mnist_test, \n",
        "                                        batch_size=batch_size, \n",
        "                                        shuffle=False) # don't shuffle data"
      ],
      "execution_count": 0,
      "outputs": []
    },
    {
      "cell_type": "code",
      "metadata": {
        "id": "a7GCwzq8YhJC",
        "colab_type": "code",
        "cellView": "both",
        "outputId": "f5764d20-ee88-4b64-e1a8-4723b79762bf",
        "colab": {
          "base_uri": "https://localhost:8080/",
          "height": 34
        }
      },
      "source": [
        "#@title Define model(★Update★)\n",
        "print(\"Define model...\")\n",
        "\n",
        "class Net(nn.Module):\n",
        "  # Initialize all modules here(instantiate)\n",
        "  def __init__(self, num_classes):    \n",
        "    super(Net, self).__init__() # Always 'torch.nn.Module' inheritance, then start\n",
        "    \n",
        "    # input=28*28*1\n",
        "    # padding=2 for same padding\n",
        "    self.conv1 = nn.Conv2d(1, 32, 5, padding=2) # 1 input image channel, 32 output image channels \n",
        "    # feature map size is 14*14 by pooling\n",
        "    # padding=2 for same padding\n",
        "    self.conv2 = nn.Conv2d(32, 64, 5, padding=2) # 32 input image channels, 64 output image channels\n",
        "    # feature map size is 7*7 by pooling\n",
        "    self.fc1 = nn.Linear(7*7*64, 1024)\n",
        "    self.fc2 = nn.Linear(1024, 10)\n",
        "    \n",
        "  # A function in which the model receives training data and proceeds to 'forward propagation'\n",
        "  def forward(self, x):\n",
        "    # Conv -> ReLU -> MaxPool\n",
        "    out = F.max_pool2d(F.relu(self.conv1(x)), 2)\n",
        "    out = F.max_pool2d(F.relu(self.conv2(out)), 2)\n",
        "    \n",
        "    out = out.view(-1, 7*7*64) # Conv --> F.C\n",
        "    \n",
        "    #Fully Connected\n",
        "    out = self.fc1(out)\n",
        "    out = F.relu(out)\n",
        "    out = self.fc2(out)\n",
        "    return F.log_softmax(out, dim=1)"
      ],
      "execution_count": 76,
      "outputs": [
        {
          "output_type": "stream",
          "text": [
            "Define model...\n"
          ],
          "name": "stdout"
        }
      ]
    },
    {
      "cell_type": "markdown",
      "metadata": {
        "id": "4ZHslsIfzXrb",
        "colab_type": "text"
      },
      "source": [
        "*num_classes*: number of output classes(MNIST label: discrete range [0,9])\n",
        "\n",
        "*RELU() function*: a function treated as zero only for negative numbers, such as max(0, x)\n",
        "\n",
        "\n",
        "---\n",
        "\n",
        "Convolution Layer 만드는 방법\n",
        "\n",
        "Conv -> ReLU -> MaxPool 이 3가지를 순서대로 진행!"
      ]
    },
    {
      "cell_type": "code",
      "metadata": {
        "id": "Q-0PbY6GHhEP",
        "colab_type": "code",
        "colab": {}
      },
      "source": [
        "#@title Define Train\n",
        "\n",
        "class train(Net):\n",
        "  def __init__(self, Net):\n",
        "    print('\\nStart training...')\n",
        "    optimizer = torch.optim.Adam(net.parameters(), lr=learning_rate)\n",
        "    \n",
        "    for epoch in range(num_epochs):\n",
        "      avg_loss = 0\n",
        "      \n",
        "      for i ,(images,labels) in enumerate(train_data):\n",
        "        images = Variable(images).cuda()\n",
        "        labels = Variable(labels).cuda()\n",
        "\n",
        "        # grad init\n",
        "        optimizer.zero_grad()\n",
        "        # forward propagation\n",
        "        outputs = net(images)\n",
        "        # calculate loss\n",
        "        loss = F.nll_loss(outputs, labels)\n",
        "        # backpropagation(calc gradient)\n",
        "        loss.backward()\n",
        "        # weight update(update gradient)\n",
        "        optimizer.step()\n",
        "\n",
        "        avg_loss += loss.data / len(train_data)\n",
        "\n",
        "      print('Epoch [%d/%d], Loss: %f' %(epoch+1, num_epochs, avg_loss))\n",
        "      \n",
        "    print('Finish training')"
      ],
      "execution_count": 0,
      "outputs": []
    },
    {
      "cell_type": "markdown",
      "metadata": {
        "id": "h68zcshtIdem",
        "colab_type": "text"
      },
      "source": [
        "*epoch*: one forward pass and one backward pass of all  the training examples\n",
        "\n",
        "*step*: Mnist에서 6만장을 한 번에 학습에 사용하면 좋겠지만, 메모리와 속도를 고려하여 데이터를 나누어 학습하는데  현재 batch Size가 100이므로 총 600개의 Batch를 얻을 수 있다."
      ]
    },
    {
      "cell_type": "code",
      "metadata": {
        "id": "XTOtPcK5Jbgt",
        "colab_type": "code",
        "colab": {}
      },
      "source": [
        "#@title Define Test(Evaluating accuracy of the model)\n",
        "\n",
        "class test():\n",
        "  def __init__(self):\n",
        "    correct = 0\n",
        "    total = 0\n",
        "    for images,labels in test_data:\n",
        "      images = Variable(images).cuda()\n",
        "      labels = Variable(labels).cuda()\n",
        "\n",
        "      output = net(images)\n",
        "      _, predicted = torch.max(output.data,1)\n",
        "      correct += (predicted == labels).sum().item()\n",
        "      total += labels.size(0)\n",
        "    print('\\nAccuracy of the model: %f %%' %(100*correct/total))"
      ],
      "execution_count": 0,
      "outputs": []
    },
    {
      "cell_type": "markdown",
      "metadata": {
        "id": "f-TqYnSh4gRw",
        "colab_type": "text"
      },
      "source": [
        "*torch.optim*: a package implementing various optimization algorithms. \n",
        "\n",
        "*torch.optim.Adam(params, lr=~)*:  An algorithm for first-order \"gradient-based optimization\" of stochastic objective functions, based on adaptive estimates of lower-order moments.\n",
        "\n",
        "- *params(iterable)*: iterable of parameters to optimize or dicts defining parameter groups\n",
        "\n",
        "- *lr(float, otional)*: learning rate(default: le-3) (1e-3 --> 1∗10^−3=0.001)\n",
        "\n",
        "- straightforward to implement(1), computationally efficient(2), little memory requirements(3), well suited for problems that are large in terms of data and/or parameters(4)"
      ]
    },
    {
      "cell_type": "code",
      "metadata": {
        "id": "CPJPvUBq0DUz",
        "colab_type": "code",
        "colab": {}
      },
      "source": [
        "#@title Count trainable parameters\n",
        "class count_params():\n",
        "  def count_parameters(self,Net):\n",
        "    print('Count trainable parameters...')\n",
        "    print('[Each layer of CNN has a weight parameter and a bias parameter.]')\n",
        "    \n",
        "    total_param = 0\n",
        "    # nn.named_parameters(): Returns an iterator over module parameters, yielding both the name of the parameter as well as the parameter itself.\n",
        "    for name, param in Net.named_parameters():\n",
        "        if param.requires_grad: # If autograd should record operations on the returned tensor.\n",
        "            num_param = numpy.prod(param.size()) # multiply each array element\n",
        "            if param.dim() > 1:\n",
        "                print(name, ':', 'x'.join(str(x) for x in list(param.size())), '=', num_param)\n",
        "            else:\n",
        "                print(name, ':', num_param)\n",
        "            total_param += num_param\n",
        "    return total_param"
      ],
      "execution_count": 0,
      "outputs": []
    },
    {
      "cell_type": "code",
      "metadata": {
        "id": "JspN_zACoOOt",
        "colab_type": "code",
        "outputId": "310d6630-274f-4f74-d09e-bc93f1c46e35",
        "colab": {
          "base_uri": "https://localhost:8080/",
          "height": 122
        }
      },
      "source": [
        "#@title Build the model\n",
        "\n",
        "net = Net(num_classes)\n",
        "print(net)\n",
        "\n",
        "if torch.cuda.is_available():\n",
        "  net.cuda()"
      ],
      "execution_count": 80,
      "outputs": [
        {
          "output_type": "stream",
          "text": [
            "Net(\n",
            "  (conv1): Conv2d(1, 32, kernel_size=(5, 5), stride=(1, 1), padding=(2, 2))\n",
            "  (conv2): Conv2d(32, 64, kernel_size=(5, 5), stride=(1, 1), padding=(2, 2))\n",
            "  (fc1): Linear(in_features=3136, out_features=1024, bias=True)\n",
            "  (fc2): Linear(in_features=1024, out_features=10, bias=True)\n",
            ")\n"
          ],
          "name": "stdout"
        }
      ]
    },
    {
      "cell_type": "markdown",
      "metadata": {
        "id": "0_LPzfhc5xnN",
        "colab_type": "text"
      },
      "source": [
        "*torch.cuda.is_available() function*: Returns a bool indicating if CUDA is currently available. (Verify that GPUs are available in given environment)\n",
        "\n",
        "*cuda()*: Used to replace the existing Tensor with a data type that allows GPU operation\n"
      ]
    },
    {
      "cell_type": "code",
      "metadata": {
        "id": "Zs-LnmJLzPDB",
        "colab_type": "code",
        "outputId": "30e825b2-b293-4709-b196-56d3ad442ec5",
        "colab": {
          "base_uri": "https://localhost:8080/",
          "height": 668
        }
      },
      "source": [
        "#@title Train & Test\n",
        "\n",
        "# count parameter\n",
        "p = count_params()\n",
        "print('number of trainable parameters = ', p.count_parameters(net))\n",
        "\n",
        "# train\n",
        "net.train() # train 과정이라고 내부적으로 알려줌\n",
        "train(net)\n",
        "\n",
        "# test\n",
        "net.eval() # test 과정이라고 내부적으로 알려줌\n",
        "test()"
      ],
      "execution_count": 81,
      "outputs": [
        {
          "output_type": "stream",
          "text": [
            "Count trainable parameters...\n",
            "[Each layer of CNN has a weight parameter and a bias parameter.]\n",
            "conv1.weight : 32x1x5x5 = 800\n",
            "conv1.bias : 32\n",
            "conv2.weight : 64x32x5x5 = 51200\n",
            "conv2.bias : 64\n",
            "fc1.weight : 1024x3136 = 3211264\n",
            "fc1.bias : 1024\n",
            "fc2.weight : 10x1024 = 10240\n",
            "fc2.bias : 10\n",
            "number of trainable parameters =  3274634\n",
            "\n",
            "Start training...\n",
            "Epoch [1/20], Loss: 0.135739\n",
            "Epoch [2/20], Loss: 0.040027\n",
            "Epoch [3/20], Loss: 0.026287\n",
            "Epoch [4/20], Loss: 0.017917\n",
            "Epoch [5/20], Loss: 0.012644\n",
            "Epoch [6/20], Loss: 0.011869\n",
            "Epoch [7/20], Loss: 0.008842\n",
            "Epoch [8/20], Loss: 0.007742\n",
            "Epoch [9/20], Loss: 0.007229\n",
            "Epoch [10/20], Loss: 0.006825\n",
            "Epoch [11/20], Loss: 0.004909\n",
            "Epoch [12/20], Loss: 0.004994\n",
            "Epoch [13/20], Loss: 0.004073\n",
            "Epoch [14/20], Loss: 0.005742\n",
            "Epoch [15/20], Loss: 0.003609\n",
            "Epoch [16/20], Loss: 0.005891\n",
            "Epoch [17/20], Loss: 0.003650\n",
            "Epoch [18/20], Loss: 0.002003\n",
            "Epoch [19/20], Loss: 0.005269\n",
            "Epoch [20/20], Loss: 0.002056\n",
            "Finish training\n",
            "\n",
            "Accuracy of the model: 99.310000 %\n"
          ],
          "name": "stdout"
        },
        {
          "output_type": "execute_result",
          "data": {
            "text/plain": [
              "<__main__.test at 0x7fc7de403240>"
            ]
          },
          "metadata": {
            "tags": []
          },
          "execution_count": 81
        }
      ]
    },
    {
      "cell_type": "markdown",
      "metadata": {
        "id": "fzuVW8_HLR-l",
        "colab_type": "text"
      },
      "source": [
        "# Conv layer's parameter\n",
        "\n",
        "*Each symbol is defined as follows*\n",
        "\n",
        "* Wc: Number of weights of the Conv layer\n",
        "\n",
        "* Bc: Number of biases of the Conv layer\n",
        "\n",
        "* Pc: Number of parameters of the Conv layer\n",
        "\n",
        "* K: Size(width) of kernels used in the Conv layer\n",
        "\n",
        "* N: Number of kernels\n",
        "\n",
        "* C: Number of channels of the input image\n",
        "\n",
        "\n",
        "---\n",
        "\n",
        "\n",
        "\n",
        "> **Wc =  N  x  C  x  K^2** \n",
        "\n",
        "> **Bc = N**\n",
        "\n",
        "> **Pc = Wc + Bc**\n",
        "\n",
        "\n",
        "---\n",
        "\n",
        "- The total number of parameters in the network is the sum of the number of conv layer parameters.\n",
        "\n",
        "- In the Conv layer, the depth of all kernels is always equal to the number of channels in the input image.\n",
        "\n",
        "- So every kernel has K^2 x C parameters, and there are N such kernels"
      ]
    },
    {
      "cell_type": "markdown",
      "metadata": {
        "id": "P-eW-U1SLWY9",
        "colab_type": "text"
      },
      "source": [
        "# FC layer's parameter\n",
        "\n",
        "*Each symbol is defined as follows*\n",
        "\n",
        "- Wcf:  Number of weights of a FC layer which is connected to a Conv layer\n",
        "- Bcf: Number of biases of a FC layer which is connected to a Conv layer\n",
        "- Pcf: Number of parameters of a FC layer which is connected to a Conv layer\n",
        "- O: Size(width) of th output image of the previous Conv layer\n",
        "- N: Number of kernels in the previous Conv layer\n",
        "- F: Number of neurons in the FC Layer\n",
        "<br></br>\n",
        "- Wff: Number of weights of a FC layer which is connected to a FC layer\n",
        "- Bff: Number of biases of a FC layer which is connected to a FC layer\n",
        "- Pff: Number of parameters of a FC layer which is connected to a FC layer\n",
        "- F: Number of neurons in th FC layer\n",
        "-F_prev: Number of neurons in the previous FC layer\n",
        "\n",
        "\n",
        "---\n",
        "\n",
        "\n",
        "**Case1: FC layer connected to a Conv layer**\n",
        "\n",
        "\n",
        "> **Wcf = F  x  O^2  x  N** \n",
        "\n",
        "> **Bcf = F**\n",
        "\n",
        "> **Pcf = Wcf + Bcf**\n",
        "<br></br>\n",
        "\n",
        "**Case2: FC layer connected to a FC Layer**\n",
        "\n",
        "\n",
        "> **Wff = F  x  F_prev** \n",
        "\n",
        "> **Bff = F**\n",
        "\n",
        "> **Pff = Wff + Bff**"
      ]
    },
    {
      "cell_type": "code",
      "metadata": {
        "id": "nqEHDK7d-kPs",
        "colab_type": "code",
        "colab": {}
      },
      "source": [
        ""
      ],
      "execution_count": 0,
      "outputs": []
    }
  ]
}