{
  "nbformat": 4,
  "nbformat_minor": 0,
  "metadata": {
    "colab": {
      "name": "Update_MNIST.ipynb",
      "version": "0.3.2",
      "provenance": [],
      "collapsed_sections": [],
      "include_colab_link": true
    },
    "kernelspec": {
      "name": "python3",
      "display_name": "Python 3"
    },
    "accelerator": "GPU"
  },
  "cells": [
    {
      "cell_type": "markdown",
      "metadata": {
        "id": "view-in-github",
        "colab_type": "text"
      },
      "source": [
        "<a href=\"https://colab.research.google.com/github/suyeon-9706/MNIST/blob/master/Update_MNIST.ipynb\" target=\"_parent\"><img src=\"https://colab.research.google.com/assets/colab-badge.svg\" alt=\"Open In Colab\"/></a>"
      ]
    },
    {
      "cell_type": "markdown",
      "metadata": {
        "id": "80nUu4aoHRAf",
        "colab_type": "text"
      },
      "source": [
        "# MNIST\n",
        "- Provided on Yann LeCun's website\n",
        "- A simple computer vision data set\n",
        "- It consists of handwritten images.\n",
        "- 28 * 28 * 1 image, 1 channel gray image, 0~9 digits\n",
        "- Each data is labeled 'What is the number of that data' with the data.\n",
        "\n",
        "\n",
        "\n",
        "\n"
      ]
    },
    {
      "cell_type": "code",
      "metadata": {
        "id": "ZdZmNN74EwSl",
        "colab_type": "code",
        "cellView": "both",
        "colab": {
          "base_uri": "https://localhost:8080/",
          "height": 158
        },
        "outputId": "16423b06-0e94-4977-9176-afdb5c7e1a6e"
      },
      "source": [
        "#@title Install pytorch\n",
        "!pip install torch\n",
        "!pip install torchvision"
      ],
      "execution_count": 1,
      "outputs": [
        {
          "output_type": "stream",
          "text": [
            "Requirement already satisfied: torch in /usr/local/lib/python3.6/dist-packages (1.1.0)\n",
            "Requirement already satisfied: numpy in /usr/local/lib/python3.6/dist-packages (from torch) (1.16.4)\n",
            "Requirement already satisfied: torchvision in /usr/local/lib/python3.6/dist-packages (0.3.0)\n",
            "Requirement already satisfied: six in /usr/local/lib/python3.6/dist-packages (from torchvision) (1.12.0)\n",
            "Requirement already satisfied: torch>=1.1.0 in /usr/local/lib/python3.6/dist-packages (from torchvision) (1.1.0)\n",
            "Requirement already satisfied: pillow>=4.1.1 in /usr/local/lib/python3.6/dist-packages (from torchvision) (4.3.0)\n",
            "Requirement already satisfied: numpy in /usr/local/lib/python3.6/dist-packages (from torchvision) (1.16.4)\n",
            "Requirement already satisfied: olefile in /usr/local/lib/python3.6/dist-packages (from pillow>=4.1.1->torchvision) (0.46)\n"
          ],
          "name": "stdout"
        }
      ]
    },
    {
      "cell_type": "code",
      "metadata": {
        "id": "tAJ72owyEv7l",
        "colab_type": "code",
        "cellView": "code",
        "colab": {}
      },
      "source": [
        "import torch\n",
        "import torch.nn as nn # Packages for creating a Neural Network\n",
        "import torch.nn.functional as F\n",
        "\n",
        "# torch.autograd: A package that is central to the Neural network, providing automatic differentiation for all operations of the Tensor\n",
        "from torch.autograd import Variable # Variable class: core class of autograd package\n",
        "\n",
        "# torchvision: use for image classification training, easy to vision training\n",
        "import torchvision.datasets as dsets # Data loader for datasets such as CIFAR10, MNIST, etc.\n",
        "import torchvision.transforms as transf # A package that transforms images of PIL type into torch tensor type"
      ],
      "execution_count": 0,
      "outputs": []
    },
    {
      "cell_type": "code",
      "metadata": {
        "id": "YP3n-il2E37P",
        "colab_type": "code",
        "cellView": "both",
        "colab": {}
      },
      "source": [
        "#@title Loading MNIST data\n",
        "mnist_train = dsets.MNIST(root='data/',\n",
        "                          train=True, # train set\n",
        "                          transform=transf.ToTensor(), # image to Tensor \n",
        "                          download=True) # If MNIST image does not exist in root, download data\n",
        "mnist_test = dsets.MNIST(root='data/',\n",
        "                         train=False, # val(test set)\n",
        "                         transform=transf.ToTensor(), # image to Tensor\n",
        "                         download=True) # If MNIST image does not exist in root, download data"
      ],
      "execution_count": 0,
      "outputs": []
    },
    {
      "cell_type": "code",
      "metadata": {
        "id": "rCQZGOUiV29E",
        "colab_type": "code",
        "cellView": "both",
        "colab": {}
      },
      "source": [
        "#@title Create batch operator to enter data in batch units\n",
        "# To update the parameters of a model: gradient descent(Update parameters after reporting batch size of data)\n",
        "batch_size = 100\n",
        "train_data = torch.utils.data.DataLoader(dataset=mnist_train,\n",
        "                                         batch_size=batch_size, \n",
        "                                         shuffle=True) # shuffle data\n",
        "test_data = torch.utils.data.DataLoader(dataset=mnist_test, \n",
        "                                        batch_size=batch_size, \n",
        "                                        shuffle=False) # don't shuffle data"
      ],
      "execution_count": 0,
      "outputs": []
    },
    {
      "cell_type": "markdown",
      "metadata": {
        "id": "I_h9OqzUzPIC",
        "colab_type": "text"
      },
      "source": [
        "*batch_size*: the size of input data took for one iteration"
      ]
    },
    {
      "cell_type": "code",
      "metadata": {
        "id": "a7GCwzq8YhJC",
        "colab_type": "code",
        "cellView": "both",
        "colab": {
          "base_uri": "https://localhost:8080/",
          "height": 34
        },
        "outputId": "b4511340-253e-4278-c9b2-4c23c9a1497e"
      },
      "source": [
        "#@title Define model(★Update★)\n",
        "print(\"Define model...\")\n",
        "\n",
        "class Net(nn.Module):\n",
        "  # Initialize all modules here(instantiate)\n",
        "  def __init__(self, num_classes):    \n",
        "    super(Net, self).__init__() # Always 'torch.nn.Module' inheritance, then start\n",
        "    \n",
        "    # input=28*28*1\n",
        "    # padding=2 for same padding\n",
        "    self.conv1 = nn.Conv2d(1, 32, 5, padding=2) # 1 input image channel, 32 output image channels \n",
        "    # feature map size is 14*14 by pooling\n",
        "    # padding=2 for same padding\n",
        "    self.conv2 = nn.Conv2d(32, 64, 5, padding=2) # 32 input image channels, 64 output image channels\n",
        "    # feature map size is 7*7 by pooling\n",
        "    self.fc1 = nn.Linear(7*7*64, 1024)\n",
        "    self.fc2 = nn.Linear(1024, 10)\n",
        "    \n",
        "  # A function in which the model receives training data and proceeds to 'forward propagation'\n",
        "  def forward(self, x):\n",
        "    # Conv -> ReLU -> MaxPool\n",
        "    out = F.max_pool2d(F.relu(self.conv1(x)), 2)\n",
        "    out = F.max_pool2d(F.relu(self.conv2(out)), 2)\n",
        "    \n",
        "    out = out.view(-1, 7*7*64) # Conv --> F.C\n",
        "    \n",
        "    #Fully Connected\n",
        "    out = self.fc1(out)\n",
        "    out = F.relu(out)\n",
        "    out = self.fc2(out)\n",
        "    return out"
      ],
      "execution_count": 5,
      "outputs": [
        {
          "output_type": "stream",
          "text": [
            "Define model...\n"
          ],
          "name": "stdout"
        }
      ]
    },
    {
      "cell_type": "markdown",
      "metadata": {
        "id": "4ZHslsIfzXrb",
        "colab_type": "text"
      },
      "source": [
        "*num_classes*: number of output classes(MNIST label: discrete range [0,9])\n",
        "\n",
        "*RELU() function*: a function treated as zero only for negative numbers, such as max(0, x)\n",
        "\n",
        "\n",
        "---\n",
        "\n",
        "Convolution Layer 만드는 방법\n",
        "\n",
        "Conv -> ReLU -> MaxPool 이 3가지를 순서대로 진행!"
      ]
    },
    {
      "cell_type": "code",
      "metadata": {
        "id": "JspN_zACoOOt",
        "colab_type": "code",
        "colab": {
          "base_uri": "https://localhost:8080/",
          "height": 122
        },
        "outputId": "dbfa5914-d301-4b27-c2de-fd7450606527"
      },
      "source": [
        "#@title Build the model\n",
        "num_classes = 10 # discrete range [0,9]\n",
        "\n",
        "net = Net(num_classes)\n",
        "print(net)\n",
        "\n",
        "if torch.cuda.is_available():\n",
        "  net.cuda()"
      ],
      "execution_count": 6,
      "outputs": [
        {
          "output_type": "stream",
          "text": [
            "Net(\n",
            "  (conv1): Conv2d(1, 32, kernel_size=(5, 5), stride=(1, 1), padding=(2, 2))\n",
            "  (conv2): Conv2d(32, 64, kernel_size=(5, 5), stride=(1, 1), padding=(2, 2))\n",
            "  (fc1): Linear(in_features=3136, out_features=1024, bias=True)\n",
            "  (fc2): Linear(in_features=1024, out_features=10, bias=True)\n",
            ")\n"
          ],
          "name": "stdout"
        }
      ]
    },
    {
      "cell_type": "markdown",
      "metadata": {
        "id": "0_LPzfhc5xnN",
        "colab_type": "text"
      },
      "source": [
        "*torch.cuda.is_available() function*: Returns a bool indicating if CUDA is currently available. (Verify that GPUs are available in given environment)\n",
        "\n",
        "*cuda()*: Used to replace the existing Tensor with a data type that allows GPU operation\n"
      ]
    },
    {
      "cell_type": "code",
      "metadata": {
        "id": "HJ3q5t-n4PPm",
        "colab_type": "code",
        "colab": {}
      },
      "source": [
        "#@title Define loss & optimizer\n",
        "# loss(Softmax)\n",
        "loss_function = nn.CrossEntropyLoss()\n",
        "# backpropagation method(Adam optimizer)\n",
        "learning_rate = 1e-3\n",
        "optimizer = torch.optim.Adam(net.parameters(), lr=learning_rate)"
      ],
      "execution_count": 0,
      "outputs": []
    },
    {
      "cell_type": "markdown",
      "metadata": {
        "id": "f-TqYnSh4gRw",
        "colab_type": "text"
      },
      "source": [
        "*torch.optim*: a package implementing various optimization algorithms. \n",
        "\n",
        "*torch.optim.Adam(params, lr=~)*:  An algorithm for first-order \"gradient-based optimization\" of stochastic objective functions, based on adaptive estimates of lower-order moments.\n",
        "\n",
        "- *params(iterable)*: iterable of parameters to optimize or dicts defining parameter groups\n",
        "\n",
        "- *lr(float, otional)*: learning rate(default: le-3) (1e-3 --> 1∗10^−3=0.001)\n",
        "\n",
        "- straightforward to implement(1), computationally efficient(2), little memory requirements(3), well suited for problems that are large in terms of data and/or parameters(4)"
      ]
    },
    {
      "cell_type": "code",
      "metadata": {
        "id": "QMaK2RIf2Kl8",
        "colab_type": "code",
        "colab": {
          "base_uri": "https://localhost:8080/",
          "height": 1601
        },
        "outputId": "8664be96-6d60-4bf3-b219-67939040f7f1"
      },
      "source": [
        "#@title Training model\n",
        "num_epochs = 15 \n",
        "for epoch in range(num_epochs):\n",
        "  for i ,(images,labels) in enumerate(train_data):\n",
        "    images = Variable(images).cuda()\n",
        "    labels = Variable(labels).cuda()\n",
        "    \n",
        "    # grad init\n",
        "    optimizer.zero_grad()\n",
        "    # forward propagation\n",
        "    outputs = net(images)\n",
        "    # calculate loss\n",
        "    loss = loss_function(outputs, labels)\n",
        "    # backpropagation(calc gradient)\n",
        "    loss.backward()\n",
        "    # weight update(update gradient)\n",
        "    optimizer.step()\n",
        "    \n",
        "    if (i+1) % 100 == 0:\n",
        "      print('Epoch [%d/%d], Step [%d/%d], Loss: %.4f'\n",
        "                 %(epoch+1, num_epochs, i+1, len(mnist_train)//batch_size, loss.data))"
      ],
      "execution_count": 8,
      "outputs": [
        {
          "output_type": "stream",
          "text": [
            "Epoch [1/15], Step [100/600], Loss: 0.1912\n",
            "Epoch [1/15], Step [200/600], Loss: 0.0417\n",
            "Epoch [1/15], Step [300/600], Loss: 0.0624\n",
            "Epoch [1/15], Step [400/600], Loss: 0.0722\n",
            "Epoch [1/15], Step [500/600], Loss: 0.1322\n",
            "Epoch [1/15], Step [600/600], Loss: 0.0364\n",
            "Epoch [2/15], Step [100/600], Loss: 0.0304\n",
            "Epoch [2/15], Step [200/600], Loss: 0.0303\n",
            "Epoch [2/15], Step [300/600], Loss: 0.0830\n",
            "Epoch [2/15], Step [400/600], Loss: 0.0246\n",
            "Epoch [2/15], Step [500/600], Loss: 0.0504\n",
            "Epoch [2/15], Step [600/600], Loss: 0.0192\n",
            "Epoch [3/15], Step [100/600], Loss: 0.0322\n",
            "Epoch [3/15], Step [200/600], Loss: 0.0182\n",
            "Epoch [3/15], Step [300/600], Loss: 0.0031\n",
            "Epoch [3/15], Step [400/600], Loss: 0.0307\n",
            "Epoch [3/15], Step [500/600], Loss: 0.0012\n",
            "Epoch [3/15], Step [600/600], Loss: 0.0822\n",
            "Epoch [4/15], Step [100/600], Loss: 0.0097\n",
            "Epoch [4/15], Step [200/600], Loss: 0.0070\n",
            "Epoch [4/15], Step [300/600], Loss: 0.0529\n",
            "Epoch [4/15], Step [400/600], Loss: 0.0141\n",
            "Epoch [4/15], Step [500/600], Loss: 0.0025\n",
            "Epoch [4/15], Step [600/600], Loss: 0.0128\n",
            "Epoch [5/15], Step [100/600], Loss: 0.0153\n",
            "Epoch [5/15], Step [200/600], Loss: 0.0127\n",
            "Epoch [5/15], Step [300/600], Loss: 0.0021\n",
            "Epoch [5/15], Step [400/600], Loss: 0.0055\n",
            "Epoch [5/15], Step [500/600], Loss: 0.0037\n",
            "Epoch [5/15], Step [600/600], Loss: 0.0118\n",
            "Epoch [6/15], Step [100/600], Loss: 0.0063\n",
            "Epoch [6/15], Step [200/600], Loss: 0.0157\n",
            "Epoch [6/15], Step [300/600], Loss: 0.0056\n",
            "Epoch [6/15], Step [400/600], Loss: 0.0303\n",
            "Epoch [6/15], Step [500/600], Loss: 0.0858\n",
            "Epoch [6/15], Step [600/600], Loss: 0.0021\n",
            "Epoch [7/15], Step [100/600], Loss: 0.0002\n",
            "Epoch [7/15], Step [200/600], Loss: 0.0199\n",
            "Epoch [7/15], Step [300/600], Loss: 0.0163\n",
            "Epoch [7/15], Step [400/600], Loss: 0.0150\n",
            "Epoch [7/15], Step [500/600], Loss: 0.0089\n",
            "Epoch [7/15], Step [600/600], Loss: 0.0004\n",
            "Epoch [8/15], Step [100/600], Loss: 0.0309\n",
            "Epoch [8/15], Step [200/600], Loss: 0.0746\n",
            "Epoch [8/15], Step [300/600], Loss: 0.0014\n",
            "Epoch [8/15], Step [400/600], Loss: 0.0010\n",
            "Epoch [8/15], Step [500/600], Loss: 0.0027\n",
            "Epoch [8/15], Step [600/600], Loss: 0.0018\n",
            "Epoch [9/15], Step [100/600], Loss: 0.0000\n",
            "Epoch [9/15], Step [200/600], Loss: 0.0008\n",
            "Epoch [9/15], Step [300/600], Loss: 0.0007\n",
            "Epoch [9/15], Step [400/600], Loss: 0.0109\n",
            "Epoch [9/15], Step [500/600], Loss: 0.0036\n",
            "Epoch [9/15], Step [600/600], Loss: 0.0003\n",
            "Epoch [10/15], Step [100/600], Loss: 0.0017\n",
            "Epoch [10/15], Step [200/600], Loss: 0.0137\n",
            "Epoch [10/15], Step [300/600], Loss: 0.0300\n",
            "Epoch [10/15], Step [400/600], Loss: 0.0000\n",
            "Epoch [10/15], Step [500/600], Loss: 0.0096\n",
            "Epoch [10/15], Step [600/600], Loss: 0.0000\n",
            "Epoch [11/15], Step [100/600], Loss: 0.0000\n",
            "Epoch [11/15], Step [200/600], Loss: 0.0005\n",
            "Epoch [11/15], Step [300/600], Loss: 0.0295\n",
            "Epoch [11/15], Step [400/600], Loss: 0.0018\n",
            "Epoch [11/15], Step [500/600], Loss: 0.0027\n",
            "Epoch [11/15], Step [600/600], Loss: 0.0314\n",
            "Epoch [12/15], Step [100/600], Loss: 0.0002\n",
            "Epoch [12/15], Step [200/600], Loss: 0.0014\n",
            "Epoch [12/15], Step [300/600], Loss: 0.0001\n",
            "Epoch [12/15], Step [400/600], Loss: 0.0001\n",
            "Epoch [12/15], Step [500/600], Loss: 0.1109\n",
            "Epoch [12/15], Step [600/600], Loss: 0.0092\n",
            "Epoch [13/15], Step [100/600], Loss: 0.0088\n",
            "Epoch [13/15], Step [200/600], Loss: 0.0054\n",
            "Epoch [13/15], Step [300/600], Loss: 0.0001\n",
            "Epoch [13/15], Step [400/600], Loss: 0.0662\n",
            "Epoch [13/15], Step [500/600], Loss: 0.0025\n",
            "Epoch [13/15], Step [600/600], Loss: 0.0017\n",
            "Epoch [14/15], Step [100/600], Loss: 0.0000\n",
            "Epoch [14/15], Step [200/600], Loss: 0.0015\n",
            "Epoch [14/15], Step [300/600], Loss: 0.0014\n",
            "Epoch [14/15], Step [400/600], Loss: 0.0001\n",
            "Epoch [14/15], Step [500/600], Loss: 0.0000\n",
            "Epoch [14/15], Step [600/600], Loss: 0.0028\n",
            "Epoch [15/15], Step [100/600], Loss: 0.0010\n",
            "Epoch [15/15], Step [200/600], Loss: 0.0001\n",
            "Epoch [15/15], Step [300/600], Loss: 0.0002\n",
            "Epoch [15/15], Step [400/600], Loss: 0.0004\n",
            "Epoch [15/15], Step [500/600], Loss: 0.0018\n",
            "Epoch [15/15], Step [600/600], Loss: 0.0001\n"
          ],
          "name": "stdout"
        }
      ]
    },
    {
      "cell_type": "markdown",
      "metadata": {
        "id": "EiSwOko61AEO",
        "colab_type": "text"
      },
      "source": [
        " *num_epochs*: number of times which the entire dataset is passed throughout the model\n",
        "\n",
        "*epoch*: one forward pass and one backward pass of all  the training examples\n",
        "\n",
        "*step*: Mnist에서 6만장을 한 번에 학습에 사용하면 좋겠지만, 메모리와 속도를 고려하여 데이터를 나누어 학습하는데  현재 batch Size가 100이므로 총 600개의 Batch를 얻을 수 있다."
      ]
    },
    {
      "cell_type": "code",
      "metadata": {
        "id": "Zs-LnmJLzPDB",
        "colab_type": "code",
        "colab": {
          "base_uri": "https://localhost:8080/",
          "height": 34
        },
        "outputId": "20e040d8-4830-4821-c546-9a195de23b58"
      },
      "source": [
        "#@title Evaluating accuracy of the model\n",
        "net.eval() # test 과정이라고 내부적으로 알려줌\n",
        "correct = 0\n",
        "total = 0\n",
        "for images,labels in test_data:\n",
        "  images = Variable(images).cuda()\n",
        "  labels = labels.cuda()\n",
        "  \n",
        "  output = net(images)\n",
        "  _, predicted = torch.max(output,1)\n",
        "  correct += (predicted == labels).sum()\n",
        "  total += labels.size(0)\n",
        "\n",
        "print('Accuracy of the model: %.3f %%' %((100*correct)/(total+1)))"
      ],
      "execution_count": 10,
      "outputs": [
        {
          "output_type": "stream",
          "text": [
            "Accuracy of the model: 99.000 %\n"
          ],
          "name": "stdout"
        }
      ]
    },
    {
      "cell_type": "code",
      "metadata": {
        "id": "nqEHDK7d-kPs",
        "colab_type": "code",
        "colab": {}
      },
      "source": [
        ""
      ],
      "execution_count": 0,
      "outputs": []
    }
  ]
}